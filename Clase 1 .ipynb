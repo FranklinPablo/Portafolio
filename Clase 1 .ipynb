{
 "cells": [
  {
   "cell_type": "markdown",
   "id": "85d95ae4",
   "metadata": {},
   "source": [
    "# Clase 1\n"
   ]
  },
  {
   "cell_type": "code",
   "execution_count": 2,
   "id": "6eaf673a",
   "metadata": {},
   "outputs": [],
   "source": [
    "import pandas as pd\n",
    "import numpy as np"
   ]
  },
  {
   "cell_type": "code",
   "execution_count": 7,
   "id": "be42abfb",
   "metadata": {},
   "outputs": [],
   "source": [
    "df = pd.read_csv(\"antropometria-dataset.csv\")"
   ]
  },
  {
   "cell_type": "code",
   "execution_count": 8,
   "id": "52acb3a6",
   "metadata": {},
   "outputs": [
    {
     "data": {
      "text/plain": [
       "folio            int64\n",
       "intp             int64\n",
       "entidad          int64\n",
       "desc_ent        object\n",
       "sexo             int64\n",
       "edad             int64\n",
       "meses            int64\n",
       "peso           float64\n",
       "ropa             int64\n",
       "talla          float64\n",
       "emb             object\n",
       "temb            object\n",
       "cintura        float64\n",
       "cadera         float64\n",
       "sistol         float64\n",
       "diastol        float64\n",
       "hpresion        object\n",
       "tbrazo          object\n",
       "htension        object\n",
       "PrimaryLast      int64\n",
       "code_upm        object\n",
       "est_dis          int64\n",
       "est_urb          int64\n",
       "est_marg         int64\n",
       "pondef         float64\n",
       "est_var          int64\n",
       "dtype: object"
      ]
     },
     "execution_count": 8,
     "metadata": {},
     "output_type": "execute_result"
    }
   ],
   "source": [
    "df.dtypes"
   ]
  },
  {
   "cell_type": "markdown",
   "id": "a6e7811c",
   "metadata": {},
   "source": [
    "Los datos que encontré son los siguientes:\n",
    "\n",
    "* Int que es para datos discretos (valor entero)\n",
    "* Objetc son para datos categóricos\n",
    "* float son para datos continuos (valores infinitos, decimales)"
   ]
  },
  {
   "cell_type": "code",
   "execution_count": 9,
   "id": "5905672b",
   "metadata": {},
   "outputs": [
    {
     "name": "stdout",
     "output_type": "stream",
     "text": [
      "(18640, 26)\n"
     ]
    }
   ],
   "source": [
    "print(df.shape)"
   ]
  },
  {
   "cell_type": "code",
   "execution_count": 14,
   "id": "8360e01b",
   "metadata": {},
   "outputs": [
    {
     "data": {
      "text/plain": [
       "<bound method DataFrame.isnull of         folio  intp  entidad                         desc_ent  sexo  edad  \\\n",
       "0      210295     2       21                           PUEBLA     2    38   \n",
       "1      101655     3       10                          DURANGO     2    11   \n",
       "2       10287     6        1                   AGUASCALIENTES     2    18   \n",
       "3       91526     4        9                 DISTRITO FEDERAL     1    10   \n",
       "4      210939     3       21                           PUEBLA     2    19   \n",
       "...       ...   ...      ...                              ...   ...   ...   \n",
       "18635  300116     2       30  VERACRUZ DE IGNACIO DE LA LLAVE     2    73   \n",
       "18636   40253     1        4                         CAMPECHE     2    75   \n",
       "18637  301099     1       30  VERACRUZ DE IGNACIO DE LA LLAVE     1    86   \n",
       "18638  250801     1       25                          SINALOA     2    72   \n",
       "18639   11786     2        1                   AGUASCALIENTES     2    71   \n",
       "\n",
       "       meses   peso  ropa   talla  ... hpresion tbrazo  htension  PrimaryLast  \\\n",
       "0          8  73.70     2  146.40  ...    16:30      2     16:35            1   \n",
       "1         11  35.65     2  145.10  ...    15:25      3     15:25            1   \n",
       "2          8  54.80     1  162.00  ...     9:40      1      9:40            1   \n",
       "3          8  33.40     2  146.50  ...     7:40      3      7:45            1   \n",
       "4          3  97.95     2  161.00  ...     6:00      2      6:00            1   \n",
       "...      ...    ...   ...     ...  ...      ...    ...       ...          ...   \n",
       "18635     11  75.80     1  141.15  ...    18:00      1     18:05            1   \n",
       "18636      0  69.40     1  144.80  ...    18:40      1     18:40            1   \n",
       "18637      7  46.75     2  149.20  ...     8:00      3     23:00            1   \n",
       "18638      7  59.05     2  142.50  ...     6:02      3      6:02            1   \n",
       "18639      8  80.00     2  150.65  ...    13:50      3     13:00            1   \n",
       "\n",
       "       code_upm  est_dis est_urb est_marg       pondef  est_var  \n",
       "0         R2101        5       3        1  3470.002176      215  \n",
       "1         M1041        1       1        1   417.946672      101  \n",
       "2         M0108        5       3        1   472.980811       15  \n",
       "3         M0931        4       3        2  1832.581391       94  \n",
       "4         M2123        5       3        1  7622.066564      215  \n",
       "...         ...      ...     ...      ...          ...      ...  \n",
       "18635     R3002        5       3        1  7615.607749      305  \n",
       "18636     M0408        5       3        1   195.314670       45  \n",
       "18637     M3024        2       1        2  1758.912979      302  \n",
       "18638     M2512        3       2        1  2354.581350      253  \n",
       "18639     M0143        2       1        2   591.847039       12  \n",
       "\n",
       "[18640 rows x 26 columns]>"
      ]
     },
     "execution_count": 14,
     "metadata": {},
     "output_type": "execute_result"
    }
   ],
   "source": [
    "df.isnull"
   ]
  },
  {
   "cell_type": "code",
   "execution_count": 12,
   "id": "87f906fc",
   "metadata": {},
   "outputs": [
    {
     "data": {
      "text/plain": [
       "folio            0\n",
       "intp             0\n",
       "entidad          0\n",
       "desc_ent         0\n",
       "sexo             0\n",
       "edad             0\n",
       "meses            0\n",
       "peso             0\n",
       "ropa             0\n",
       "talla            0\n",
       "emb              0\n",
       "temb             0\n",
       "cintura        608\n",
       "cadera         608\n",
       "sistol           0\n",
       "diastol          0\n",
       "hpresion         0\n",
       "tbrazo           0\n",
       "htension         0\n",
       "PrimaryLast      0\n",
       "code_upm         0\n",
       "est_dis          0\n",
       "est_urb          0\n",
       "est_marg         0\n",
       "pondef           0\n",
       "est_var          0\n",
       "dtype: int64"
      ]
     },
     "execution_count": 12,
     "metadata": {},
     "output_type": "execute_result"
    }
   ],
   "source": [
    "df.isnull().sum()"
   ]
  },
  {
   "cell_type": "code",
   "execution_count": 15,
   "id": "89e904c5",
   "metadata": {},
   "outputs": [
    {
     "data": {
      "text/plain": [
       "3.2618025751072963"
      ]
     },
     "execution_count": 15,
     "metadata": {},
     "output_type": "execute_result"
    }
   ],
   "source": [
    "(608/18640)*100"
   ]
  },
  {
   "cell_type": "code",
   "execution_count": 22,
   "id": "0f334871",
   "metadata": {},
   "outputs": [
    {
     "name": "stdout",
     "output_type": "stream",
     "text": [
      "(18032, 26)\n"
     ]
    }
   ],
   "source": [
    "df.dropna(subset=['cintura'], inplace=True)\n",
    "print(df.shape)"
   ]
  },
  {
   "cell_type": "code",
   "execution_count": 24,
   "id": "e5234518",
   "metadata": {},
   "outputs": [
    {
     "data": {
      "text/plain": [
       "folio          0\n",
       "intp           0\n",
       "entidad        0\n",
       "desc_ent       0\n",
       "sexo           0\n",
       "edad           0\n",
       "meses          0\n",
       "peso           0\n",
       "ropa           0\n",
       "talla          0\n",
       "emb            0\n",
       "temb           0\n",
       "cintura        0\n",
       "cadera         0\n",
       "sistol         0\n",
       "diastol        0\n",
       "hpresion       0\n",
       "tbrazo         0\n",
       "htension       0\n",
       "PrimaryLast    0\n",
       "code_upm       0\n",
       "est_dis        0\n",
       "est_urb        0\n",
       "est_marg       0\n",
       "pondef         0\n",
       "est_var        0\n",
       "dtype: int64"
      ]
     },
     "execution_count": 24,
     "metadata": {},
     "output_type": "execute_result"
    }
   ],
   "source": [
    "df['cadera'].fillna(df['cadera'].mean(),inplace=True)\n",
    "df.isnull().sum()\n"
   ]
  },
  {
   "cell_type": "code",
   "execution_count": null,
   "id": "1f83ab5a",
   "metadata": {},
   "outputs": [],
   "source": []
  }
 ],
 "metadata": {
  "kernelspec": {
   "display_name": "Python 3 (ipykernel)",
   "language": "python",
   "name": "python3"
  },
  "language_info": {
   "codemirror_mode": {
    "name": "ipython",
    "version": 3
   },
   "file_extension": ".py",
   "mimetype": "text/x-python",
   "name": "python",
   "nbconvert_exporter": "python",
   "pygments_lexer": "ipython3",
   "version": "3.11.4"
  }
 },
 "nbformat": 4,
 "nbformat_minor": 5
}
