{
 "cells": [
  {
   "cell_type": "markdown",
   "id": "0677defe",
   "metadata": {},
   "source": [
    "# Clase 4"
   ]
  },
  {
   "cell_type": "code",
   "execution_count": 1,
   "id": "d160999f",
   "metadata": {},
   "outputs": [],
   "source": [
    "import pandas as pd\n",
    "import numpy as np\n",
    "import matplotlib.pyplot as plt\n",
    "import seaborn as sb\n",
    "import scipy.stats as stats"
   ]
  },
  {
   "cell_type": "code",
   "execution_count": 2,
   "id": "61ac561e",
   "metadata": {},
   "outputs": [],
   "source": [
    "data= pd.read_csv('Data2.csv', sep=';')"
   ]
  },
  {
   "cell_type": "code",
   "execution_count": 3,
   "id": "38418468",
   "metadata": {},
   "outputs": [
    {
     "data": {
      "text/html": [
       "<div>\n",
       "<style scoped>\n",
       "    .dataframe tbody tr th:only-of-type {\n",
       "        vertical-align: middle;\n",
       "    }\n",
       "\n",
       "    .dataframe tbody tr th {\n",
       "        vertical-align: top;\n",
       "    }\n",
       "\n",
       "    .dataframe thead th {\n",
       "        text-align: right;\n",
       "    }\n",
       "</style>\n",
       "<table border=\"1\" class=\"dataframe\">\n",
       "  <thead>\n",
       "    <tr style=\"text-align: right;\">\n",
       "      <th></th>\n",
       "      <th>Marca</th>\n",
       "      <th>Pais</th>\n",
       "      <th>Whiskies</th>\n",
       "      <th>Votos</th>\n",
       "      <th>Puntuacion</th>\n",
       "      <th>Categoria</th>\n",
       "      <th>Sabor</th>\n",
       "      <th>Color</th>\n",
       "      <th>Maltas</th>\n",
       "    </tr>\n",
       "  </thead>\n",
       "  <tbody>\n",
       "    <tr>\n",
       "      <th>0</th>\n",
       "      <td>100 Pipers</td>\n",
       "      <td>Scotland</td>\n",
       "      <td>33</td>\n",
       "      <td>11</td>\n",
       "      <td>72.72</td>\n",
       "      <td>F</td>\n",
       "      <td>7</td>\n",
       "      <td>7</td>\n",
       "      <td>9</td>\n",
       "    </tr>\n",
       "    <tr>\n",
       "      <th>1</th>\n",
       "      <td>Aberfeldy</td>\n",
       "      <td>Scotland</td>\n",
       "      <td>269</td>\n",
       "      <td>203</td>\n",
       "      <td>83.54</td>\n",
       "      <td>D</td>\n",
       "      <td>2</td>\n",
       "      <td>9</td>\n",
       "      <td>1</td>\n",
       "    </tr>\n",
       "    <tr>\n",
       "      <th>2</th>\n",
       "      <td>Ambassador</td>\n",
       "      <td>Scotland</td>\n",
       "      <td>29</td>\n",
       "      <td>10</td>\n",
       "      <td>83.69</td>\n",
       "      <td>D</td>\n",
       "      <td>8</td>\n",
       "      <td>5</td>\n",
       "      <td>4</td>\n",
       "    </tr>\n",
       "    <tr>\n",
       "      <th>3</th>\n",
       "      <td>Ardmore</td>\n",
       "      <td>Scotland</td>\n",
       "      <td>692</td>\n",
       "      <td>523</td>\n",
       "      <td>84.93</td>\n",
       "      <td>D</td>\n",
       "      <td>9</td>\n",
       "      <td>9</td>\n",
       "      <td>9</td>\n",
       "    </tr>\n",
       "    <tr>\n",
       "      <th>4</th>\n",
       "      <td>Auchroisk</td>\n",
       "      <td>Scotland</td>\n",
       "      <td>327</td>\n",
       "      <td>231</td>\n",
       "      <td>84.25</td>\n",
       "      <td>D</td>\n",
       "      <td>6</td>\n",
       "      <td>6</td>\n",
       "      <td>1</td>\n",
       "    </tr>\n",
       "  </tbody>\n",
       "</table>\n",
       "</div>"
      ],
      "text/plain": [
       "        Marca      Pais  Whiskies  Votos  Puntuacion Categoria  Sabor  Color  \\\n",
       "0  100 Pipers  Scotland        33     11       72.72         F      7      7   \n",
       "1   Aberfeldy  Scotland       269    203       83.54         D      2      9   \n",
       "2  Ambassador  Scotland        29     10       83.69         D      8      5   \n",
       "3     Ardmore  Scotland       692    523       84.93         D      9      9   \n",
       "4   Auchroisk  Scotland       327    231       84.25         D      6      6   \n",
       "\n",
       "   Maltas  \n",
       "0       9  \n",
       "1       1  \n",
       "2       4  \n",
       "3       9  \n",
       "4       1  "
      ]
     },
     "execution_count": 3,
     "metadata": {},
     "output_type": "execute_result"
    }
   ],
   "source": [
    "data.head()"
   ]
  },
  {
   "cell_type": "code",
   "execution_count": 4,
   "id": "5fdeadb4",
   "metadata": {},
   "outputs": [
    {
     "data": {
      "text/plain": [
       "Pais\n",
       "Ireland            6\n",
       "Japan              1\n",
       "Scotland          60\n",
       "United Kingdom     2\n",
       "United States     19\n",
       "dtype: int64"
      ]
     },
     "execution_count": 4,
     "metadata": {},
     "output_type": "execute_result"
    }
   ],
   "source": [
    "data.groupby('Pais').size()"
   ]
  },
  {
   "cell_type": "code",
   "execution_count": 16,
   "id": "080e4a0f",
   "metadata": {},
   "outputs": [
    {
     "data": {
      "image/png": "[encoded data removed]",
      "text/plain": [
       "<Figure size 640x480 with 1 Axes>"
      ]
     },
     "metadata": {},
     "output_type": "display_data"
    }
   ],
   "source": [
    "fig, ax= plt.subplots()\n",
    "ax.set_xlabel(\"Paises\")\n",
    "ax.set_ylabel(\"Frecuencias\")\n",
    "ax.set_title(\"Cantidad de Whiskies por país\")\n",
    "data.groupby('Pais').size().plot(kind='bar')\n",
    "plt.show()"
   ]
  },
  {
   "cell_type": "markdown",
   "id": "ab0c6c13",
   "metadata": {},
   "source": [
    "# Variable continuas"
   ]
  },
  {
   "cell_type": "code",
   "execution_count": 17,
   "id": "01546583",
   "metadata": {},
   "outputs": [],
   "source": [
    "#se debe sacar el promedio y ese es una tendencia central y la variabilidad"
   ]
  },
  {
   "cell_type": "code",
   "execution_count": 26,
   "id": "a73be198",
   "metadata": {},
   "outputs": [],
   "source": [
    "#media, moda, mediana, rango"
   ]
  },
  {
   "cell_type": "markdown",
   "id": "3752ba58",
   "metadata": {},
   "source": [
    "# -Tendencia central\n"
   ]
  },
  {
   "cell_type": "code",
   "execution_count": 19,
   "id": "831a72d4",
   "metadata": {},
   "outputs": [
    {
     "data": {
      "text/plain": [
       "82.44295454545455"
      ]
     },
     "execution_count": 19,
     "metadata": {},
     "output_type": "execute_result"
    }
   ],
   "source": [
    "data['Puntuacion'].mean()"
   ]
  },
  {
   "cell_type": "code",
   "execution_count": 21,
   "id": "e3228f3a",
   "metadata": {},
   "outputs": [
    {
     "data": {
      "text/plain": [
       "83.92"
      ]
     },
     "execution_count": 21,
     "metadata": {},
     "output_type": "execute_result"
    }
   ],
   "source": [
    "data['Puntuacion'].median()"
   ]
  },
  {
   "cell_type": "code",
   "execution_count": 22,
   "id": "27c9b18a",
   "metadata": {},
   "outputs": [
    {
     "data": {
      "text/plain": [
       "93.24"
      ]
     },
     "execution_count": 22,
     "metadata": {},
     "output_type": "execute_result"
    }
   ],
   "source": [
    "data['Puntuacion'].max()"
   ]
  },
  {
   "cell_type": "code",
   "execution_count": 24,
   "id": "4c321ca6",
   "metadata": {},
   "outputs": [
    {
     "data": {
      "text/plain": [
       "3.0"
      ]
     },
     "execution_count": 24,
     "metadata": {},
     "output_type": "execute_result"
    }
   ],
   "source": [
    "data['Puntuacion'].min()"
   ]
  },
  {
   "cell_type": "code",
   "execution_count": 25,
   "id": "84ca823e",
   "metadata": {},
   "outputs": [
    {
     "data": {
      "text/plain": [
       "83.4"
      ]
     },
     "execution_count": 25,
     "metadata": {},
     "output_type": "execute_result"
    }
   ],
   "source": [
    "data['Puntuacion'].mode()[0]"
   ]
  },
  {
   "cell_type": "markdown",
   "id": "f35195e0",
   "metadata": {},
   "source": [
    "# -Variabilidad"
   ]
  },
  {
   "cell_type": "code",
   "execution_count": 27,
   "id": "6fcd806f",
   "metadata": {},
   "outputs": [
    {
     "data": {
      "text/plain": [
       "9.620308877289848"
      ]
     },
     "execution_count": 27,
     "metadata": {},
     "output_type": "execute_result"
    }
   ],
   "source": [
    "data['Puntuacion'].std()"
   ]
  },
  {
   "cell_type": "code",
   "execution_count": 28,
   "id": "431da809",
   "metadata": {},
   "outputs": [
    {
     "data": {
      "text/plain": [
       "92.55034289446186"
      ]
     },
     "execution_count": 28,
     "metadata": {},
     "output_type": "execute_result"
    }
   ],
   "source": [
    "data['Puntuacion'].var()"
   ]
  },
  {
   "cell_type": "code",
   "execution_count": 29,
   "id": "1fbcfe52",
   "metadata": {},
   "outputs": [
    {
     "data": {
      "text/plain": [
       "5.257499999999993"
      ]
     },
     "execution_count": 29,
     "metadata": {},
     "output_type": "execute_result"
    }
   ],
   "source": [
    "stats.iqr(data['Puntuacion'])"
   ]
  },
  {
   "cell_type": "code",
   "execution_count": 30,
   "id": "e78d556c",
   "metadata": {},
   "outputs": [
    {
     "data": {
      "text/plain": [
       "count    88.000000\n",
       "mean     82.442955\n",
       "std       9.620309\n",
       "min       3.000000\n",
       "25%      80.982500\n",
       "50%      83.920000\n",
       "75%      86.240000\n",
       "max      93.240000\n",
       "Name: Puntuacion, dtype: float64"
      ]
     },
     "execution_count": 30,
     "metadata": {},
     "output_type": "execute_result"
    }
   ],
   "source": [
    "data['Puntuacion'].describe()"
   ]
  },
  {
   "cell_type": "code",
   "execution_count": 31,
   "id": "2a1069eb",
   "metadata": {},
   "outputs": [],
   "source": [
    "#varianza, área bajo la curva\n",
    "#la desviación estándar es el cuadrado de eso, es decir las lineas que dividen "
   ]
  },
  {
   "cell_type": "code",
   "execution_count": 32,
   "id": "8cbdf81f",
   "metadata": {},
   "outputs": [
    {
     "data": {
      "text/html": [
       "<div>\n",
       "<style scoped>\n",
       "    .dataframe tbody tr th:only-of-type {\n",
       "        vertical-align: middle;\n",
       "    }\n",
       "\n",
       "    .dataframe tbody tr th {\n",
       "        vertical-align: top;\n",
       "    }\n",
       "\n",
       "    .dataframe thead th {\n",
       "        text-align: right;\n",
       "    }\n",
       "</style>\n",
       "<table border=\"1\" class=\"dataframe\">\n",
       "  <thead>\n",
       "    <tr style=\"text-align: right;\">\n",
       "      <th></th>\n",
       "      <th>Whiskies</th>\n",
       "      <th>Votos</th>\n",
       "      <th>Puntuacion</th>\n",
       "      <th>Sabor</th>\n",
       "      <th>Color</th>\n",
       "      <th>Maltas</th>\n",
       "    </tr>\n",
       "  </thead>\n",
       "  <tbody>\n",
       "    <tr>\n",
       "      <th>count</th>\n",
       "      <td>88.000000</td>\n",
       "      <td>88.000000</td>\n",
       "      <td>88.000000</td>\n",
       "      <td>88.000000</td>\n",
       "      <td>88.000000</td>\n",
       "      <td>88.000000</td>\n",
       "    </tr>\n",
       "    <tr>\n",
       "      <th>mean</th>\n",
       "      <td>147.261364</td>\n",
       "      <td>100.556818</td>\n",
       "      <td>82.442955</td>\n",
       "      <td>5.784091</td>\n",
       "      <td>6.204545</td>\n",
       "      <td>4.670455</td>\n",
       "    </tr>\n",
       "    <tr>\n",
       "      <th>std</th>\n",
       "      <td>246.153652</td>\n",
       "      <td>180.085411</td>\n",
       "      <td>9.620309</td>\n",
       "      <td>2.360834</td>\n",
       "      <td>2.573781</td>\n",
       "      <td>2.798693</td>\n",
       "    </tr>\n",
       "    <tr>\n",
       "      <th>min</th>\n",
       "      <td>11.000000</td>\n",
       "      <td>1.000000</td>\n",
       "      <td>3.000000</td>\n",
       "      <td>2.000000</td>\n",
       "      <td>2.000000</td>\n",
       "      <td>1.000000</td>\n",
       "    </tr>\n",
       "    <tr>\n",
       "      <th>25%</th>\n",
       "      <td>19.000000</td>\n",
       "      <td>10.000000</td>\n",
       "      <td>80.982500</td>\n",
       "      <td>3.000000</td>\n",
       "      <td>5.000000</td>\n",
       "      <td>3.000000</td>\n",
       "    </tr>\n",
       "    <tr>\n",
       "      <th>50%</th>\n",
       "      <td>33.500000</td>\n",
       "      <td>21.500000</td>\n",
       "      <td>83.920000</td>\n",
       "      <td>6.000000</td>\n",
       "      <td>6.000000</td>\n",
       "      <td>4.000000</td>\n",
       "    </tr>\n",
       "    <tr>\n",
       "      <th>75%</th>\n",
       "      <td>147.000000</td>\n",
       "      <td>111.000000</td>\n",
       "      <td>86.240000</td>\n",
       "      <td>8.000000</td>\n",
       "      <td>9.000000</td>\n",
       "      <td>7.000000</td>\n",
       "    </tr>\n",
       "    <tr>\n",
       "      <th>max</th>\n",
       "      <td>1589.000000</td>\n",
       "      <td>1233.000000</td>\n",
       "      <td>93.240000</td>\n",
       "      <td>10.000000</td>\n",
       "      <td>10.000000</td>\n",
       "      <td>9.000000</td>\n",
       "    </tr>\n",
       "  </tbody>\n",
       "</table>\n",
       "</div>"
      ],
      "text/plain": [
       "          Whiskies        Votos  Puntuacion      Sabor      Color     Maltas\n",
       "count    88.000000    88.000000   88.000000  88.000000  88.000000  88.000000\n",
       "mean    147.261364   100.556818   82.442955   5.784091   6.204545   4.670455\n",
       "std     246.153652   180.085411    9.620309   2.360834   2.573781   2.798693\n",
       "min      11.000000     1.000000    3.000000   2.000000   2.000000   1.000000\n",
       "25%      19.000000    10.000000   80.982500   3.000000   5.000000   3.000000\n",
       "50%      33.500000    21.500000   83.920000   6.000000   6.000000   4.000000\n",
       "75%     147.000000   111.000000   86.240000   8.000000   9.000000   7.000000\n",
       "max    1589.000000  1233.000000   93.240000  10.000000  10.000000   9.000000"
      ]
     },
     "execution_count": 32,
     "metadata": {},
     "output_type": "execute_result"
    }
   ],
   "source": [
    "data.describe()"
   ]
  },
  {
   "cell_type": "markdown",
   "id": "fe48444e",
   "metadata": {},
   "source": [
    "# Histograma"
   ]
  },
  {
   "cell_type": "code",
   "execution_count": 33,
   "id": "a96f25ca",
   "metadata": {},
   "outputs": [
    {
     "data": {
      "text/plain": [
       "<Axes: ylabel='Frequency'>"
      ]
     },
     "execution_count": 33,
     "metadata": {},
     "output_type": "execute_result"
    },
    {
     "data": {
      "image/png": "[encoded data removed]",
      "text/plain": [
       "<Figure size 640x480 with 1 Axes>"
      ]
     },
     "metadata": {},
     "output_type": "display_data"
    }
   ],
   "source": [
    "data['Puntuacion'].plot(kind='hist')"
   ]
  },
  {
   "cell_type": "code",
   "execution_count": 34,
   "id": "634ac88b",
   "metadata": {},
   "outputs": [
    {
     "data": {
      "text/plain": [
       "<Axes: ylabel='Frequency'>"
      ]
     },
     "execution_count": 34,
     "metadata": {},
     "output_type": "execute_result"
    },
    {
     "data": {
      "image/png": "[encoded data removed]",
      "text/plain": [
       "<Figure size 640x480 with 1 Axes>"
      ]
     },
     "metadata": {},
     "output_type": "display_data"
    }
   ],
   "source": [
    "data['Maltas'].plot(kind='hist')"
   ]
  },
  {
   "cell_type": "code",
   "execution_count": 35,
   "id": "4142204d",
   "metadata": {},
   "outputs": [
    {
     "data": {
      "text/plain": [
       "(array([ 1.,  0.,  0.,  0.,  0.,  0.,  0.,  5., 42., 40.]),\n",
       " array([ 3.   , 12.024, 21.048, 30.072, 39.096, 48.12 , 57.144, 66.168,\n",
       "        75.192, 84.216, 93.24 ]),\n",
       " <BarContainer object of 10 artists>)"
      ]
     },
     "execution_count": 35,
     "metadata": {},
     "output_type": "execute_result"
    },
    {
     "data": {
      "image/png": "[encoded data removed]",
      "text/plain": [
       "<Figure size 640x480 with 1 Axes>"
      ]
     },
     "metadata": {},
     "output_type": "display_data"
    }
   ],
   "source": [
    "plt.hist(data['Puntuacion'])"
   ]
  },
  {
   "cell_type": "code",
   "execution_count": 36,
   "id": "e0d2263b",
   "metadata": {},
   "outputs": [
    {
     "name": "stderr",
     "output_type": "stream",
     "text": [
      "C:\\Users\\GAMER\\AppData\\Local\\Temp\\ipykernel_3648\\509686924.py:1: UserWarning: \n",
      "\n",
      "`distplot` is a deprecated function and will be removed in seaborn v0.14.0.\n",
      "\n",
      "Please adapt your code to use either `displot` (a figure-level function with\n",
      "similar flexibility) or `histplot` (an axes-level function for histograms).\n",
      "\n",
      "For a guide to updating your code to use the new functions, please see\n",
      "https://gist.github.com/mwaskom/de44147ed2974457ad6372750bbe5751\n",
      "\n",
      "  sb.distplot(a=data['Puntuacion'],kde=True)\n"
     ]
    },
    {
     "data": {
      "text/plain": [
       "<Axes: xlabel='Puntuacion', ylabel='Density'>"
      ]
     },
     "execution_count": 36,
     "metadata": {},
     "output_type": "execute_result"
    },
    {
     "data": {
      "image/png": "[encoded data removed]",
      "text/plain": [
       "<Figure size 640x480 with 1 Axes>"
      ]
     },
     "metadata": {},
     "output_type": "display_data"
    }
   ],
   "source": [
    "sb.distplot(a=data['Puntuacion'],kde=True)"
   ]
  },
  {
   "cell_type": "code",
   "execution_count": 38,
   "id": "047ac1b8",
   "metadata": {},
   "outputs": [
    {
     "data": {
      "text/plain": [
       "<Axes: >"
      ]
     },
     "execution_count": 38,
     "metadata": {},
     "output_type": "execute_result"
    },
    {
     "data": {
      "image/png": "[encoded data removed]",
      "text/plain": [
       "<Figure size 640x480 with 1 Axes>"
      ]
     },
     "metadata": {},
     "output_type": "display_data"
    }
   ],
   "source": [
    "data['Puntuacion'].plot(kind='box')"
   ]
  },
  {
   "cell_type": "code",
   "execution_count": null,
   "id": "36445923",
   "metadata": {},
   "outputs": [],
   "source": []
  }
 ],
 "metadata": {
  "kernelspec": {
   "display_name": "Python 3 (ipykernel)",
   "language": "python",
   "name": "python3"
  },
  "language_info": {
   "codemirror_mode": {
    "name": "ipython",
    "version": 3
   },
   "file_extension": ".py",
   "mimetype": "text/x-python",
   "name": "python",
   "nbconvert_exporter": "python",
   "pygments_lexer": "ipython3",
   "version": "3.11.4"
  }
 },
 "nbformat": 4,
 "nbformat_minor": 5
}
